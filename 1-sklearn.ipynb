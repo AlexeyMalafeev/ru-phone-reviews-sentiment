{
 "cells": [
  {
   "cell_type": "code",
   "execution_count": 1,
   "id": "837e2e8e",
   "metadata": {
    "_cell_guid": "b1076dfc-b9ad-4769-8c92-a6c4dae69d19",
    "_uuid": "8f2839f25d086af736a60e9eeb907d3b93b6e0e5",
    "execution": {
     "iopub.execute_input": "2023-01-21T18:23:28.122124Z",
     "iopub.status.busy": "2023-01-21T18:23:28.121686Z",
     "iopub.status.idle": "2023-01-21T18:23:28.148955Z",
     "shell.execute_reply": "2023-01-21T18:23:28.148040Z"
    },
    "papermill": {
     "duration": 0.039355,
     "end_time": "2023-01-21T18:23:28.151624",
     "exception": false,
     "start_time": "2023-01-21T18:23:28.112269",
     "status": "completed"
    },
    "tags": []
   },
   "outputs": [
    {
     "name": "stdout",
     "output_type": "stream",
     "text": [
      "/kaggle/input/phonereviews/data.csv\n"
     ]
    }
   ],
   "source": [
    "# This Python 3 environment comes with many helpful analytics libraries installed\n",
    "# It is defined by the kaggle/python Docker image: https://github.com/kaggle/docker-python\n",
    "# For example, here's several helpful packages to load\n",
    "\n",
    "import numpy as np # linear algebra\n",
    "import pandas as pd # data processing, CSV file I/O (e.g. pd.read_csv)\n",
    "\n",
    "# Input data files are available in the read-only \"../input/\" directory\n",
    "# For example, running this (by clicking run or pressing Shift+Enter) will list all files under the input directory\n",
    "\n",
    "import os\n",
    "for dirname, _, filenames in os.walk('/kaggle/input'):\n",
    "    for filename in filenames:\n",
    "        print(os.path.join(dirname, filename))\n",
    "\n",
    "# You can write up to 20GB to the current directory (/kaggle/working/) that gets preserved as output when you create a version using \"Save & Run All\" \n",
    "# You can also write temporary files to /kaggle/temp/, but they won't be saved outside of the current session"
   ]
  },
  {
   "cell_type": "code",
   "execution_count": 2,
   "id": "36841dac",
   "metadata": {
    "execution": {
     "iopub.execute_input": "2023-01-21T18:23:28.166427Z",
     "iopub.status.busy": "2023-01-21T18:23:28.166017Z",
     "iopub.status.idle": "2023-01-21T18:23:36.697165Z",
     "shell.execute_reply": "2023-01-21T18:23:36.695913Z"
    },
    "papermill": {
     "duration": 8.541723,
     "end_time": "2023-01-21T18:23:36.700025",
     "exception": false,
     "start_time": "2023-01-21T18:23:28.158302",
     "status": "completed"
    },
    "tags": []
   },
   "outputs": [],
   "source": [
    "data = pd.read_csv('/kaggle/input/phonereviews/data.csv')"
   ]
  },
  {
   "cell_type": "code",
   "execution_count": 3,
   "id": "151cc079",
   "metadata": {
    "execution": {
     "iopub.execute_input": "2023-01-21T18:23:36.716311Z",
     "iopub.status.busy": "2023-01-21T18:23:36.714010Z",
     "iopub.status.idle": "2023-01-21T18:23:36.739197Z",
     "shell.execute_reply": "2023-01-21T18:23:36.737909Z"
    },
    "papermill": {
     "duration": 0.035509,
     "end_time": "2023-01-21T18:23:36.741873",
     "exception": false,
     "start_time": "2023-01-21T18:23:36.706364",
     "status": "completed"
    },
    "tags": []
   },
   "outputs": [
    {
     "data": {
      "text/html": [
       "<div>\n",
       "<style scoped>\n",
       "    .dataframe tbody tr th:only-of-type {\n",
       "        vertical-align: middle;\n",
       "    }\n",
       "\n",
       "    .dataframe tbody tr th {\n",
       "        vertical-align: top;\n",
       "    }\n",
       "\n",
       "    .dataframe thead th {\n",
       "        text-align: right;\n",
       "    }\n",
       "</style>\n",
       "<table border=\"1\" class=\"dataframe\">\n",
       "  <thead>\n",
       "    <tr style=\"text-align: right;\">\n",
       "      <th></th>\n",
       "      <th>Review</th>\n",
       "      <th>Rating</th>\n",
       "    </tr>\n",
       "  </thead>\n",
       "  <tbody>\n",
       "    <tr>\n",
       "      <th>0</th>\n",
       "      <td>3D Touch просто восхитительная вещь! Заряд дер...</td>\n",
       "      <td>5</td>\n",
       "    </tr>\n",
       "    <tr>\n",
       "      <th>1</th>\n",
       "      <td>Отключается при температуре близкой к нулю, не...</td>\n",
       "      <td>4</td>\n",
       "    </tr>\n",
       "    <tr>\n",
       "      <th>2</th>\n",
       "      <td>В Apple окончательно решили не заморачиваться,...</td>\n",
       "      <td>3</td>\n",
       "    </tr>\n",
       "    <tr>\n",
       "      <th>3</th>\n",
       "      <td>Постарался наиболее ёмко и коротко описать все...</td>\n",
       "      <td>4</td>\n",
       "    </tr>\n",
       "    <tr>\n",
       "      <th>4</th>\n",
       "      <td>Достойный телефон. Пользоваться одно удовольст...</td>\n",
       "      <td>5</td>\n",
       "    </tr>\n",
       "    <tr>\n",
       "      <th>...</th>\n",
       "      <td>...</td>\n",
       "      <td>...</td>\n",
       "    </tr>\n",
       "    <tr>\n",
       "      <th>458428</th>\n",
       "      <td>удобный, всё работает отлично, звонит, играет,...</td>\n",
       "      <td>5</td>\n",
       "    </tr>\n",
       "    <tr>\n",
       "      <th>458429</th>\n",
       "      <td>прошло больше года, притензий нет, при моей на...</td>\n",
       "      <td>5</td>\n",
       "    </tr>\n",
       "    <tr>\n",
       "      <th>458430</th>\n",
       "      <td>мой первый аппарат на андроиде. На данный моме...</td>\n",
       "      <td>5</td>\n",
       "    </tr>\n",
       "    <tr>\n",
       "      <th>458431</th>\n",
       "      <td>Разбил iphone и не было желания покупать новый...</td>\n",
       "      <td>5</td>\n",
       "    </tr>\n",
       "    <tr>\n",
       "      <th>458432</th>\n",
       "      <td>Очень доволен покупкой и всем советую...</td>\n",
       "      <td>5</td>\n",
       "    </tr>\n",
       "  </tbody>\n",
       "</table>\n",
       "<p>458433 rows × 2 columns</p>\n",
       "</div>"
      ],
      "text/plain": [
       "                                                   Review  Rating\n",
       "0       3D Touch просто восхитительная вещь! Заряд дер...       5\n",
       "1       Отключается при температуре близкой к нулю, не...       4\n",
       "2       В Apple окончательно решили не заморачиваться,...       3\n",
       "3       Постарался наиболее ёмко и коротко описать все...       4\n",
       "4       Достойный телефон. Пользоваться одно удовольст...       5\n",
       "...                                                   ...     ...\n",
       "458428  удобный, всё работает отлично, звонит, играет,...       5\n",
       "458429  прошло больше года, притензий нет, при моей на...       5\n",
       "458430  мой первый аппарат на андроиде. На данный моме...       5\n",
       "458431  Разбил iphone и не было желания покупать новый...       5\n",
       "458432           Очень доволен покупкой и всем советую...       5\n",
       "\n",
       "[458433 rows x 2 columns]"
      ]
     },
     "execution_count": 3,
     "metadata": {},
     "output_type": "execute_result"
    }
   ],
   "source": [
    "data"
   ]
  },
  {
   "cell_type": "code",
   "execution_count": 4,
   "id": "f4cfb3d1",
   "metadata": {
    "execution": {
     "iopub.execute_input": "2023-01-21T18:23:36.757902Z",
     "iopub.status.busy": "2023-01-21T18:23:36.757449Z",
     "iopub.status.idle": "2023-01-21T18:23:36.879590Z",
     "shell.execute_reply": "2023-01-21T18:23:36.878426Z"
    },
    "papermill": {
     "duration": 0.133318,
     "end_time": "2023-01-21T18:23:36.882159",
     "exception": false,
     "start_time": "2023-01-21T18:23:36.748841",
     "status": "completed"
    },
    "tags": []
   },
   "outputs": [
    {
     "data": {
      "text/html": [
       "<div>\n",
       "<style scoped>\n",
       "    .dataframe tbody tr th:only-of-type {\n",
       "        vertical-align: middle;\n",
       "    }\n",
       "\n",
       "    .dataframe tbody tr th {\n",
       "        vertical-align: top;\n",
       "    }\n",
       "\n",
       "    .dataframe thead th {\n",
       "        text-align: right;\n",
       "    }\n",
       "</style>\n",
       "<table border=\"1\" class=\"dataframe\">\n",
       "  <thead>\n",
       "    <tr style=\"text-align: right;\">\n",
       "      <th></th>\n",
       "      <th>Review</th>\n",
       "      <th>Rating</th>\n",
       "    </tr>\n",
       "  </thead>\n",
       "  <tbody>\n",
       "    <tr>\n",
       "      <th>0</th>\n",
       "      <td>3D Touch просто восхитительная вещь! Заряд дер...</td>\n",
       "      <td>5</td>\n",
       "    </tr>\n",
       "    <tr>\n",
       "      <th>1</th>\n",
       "      <td>Отключается при температуре близкой к нулю, не...</td>\n",
       "      <td>4</td>\n",
       "    </tr>\n",
       "    <tr>\n",
       "      <th>2</th>\n",
       "      <td>В Apple окончательно решили не заморачиваться,...</td>\n",
       "      <td>3</td>\n",
       "    </tr>\n",
       "    <tr>\n",
       "      <th>3</th>\n",
       "      <td>Постарался наиболее ёмко и коротко описать все...</td>\n",
       "      <td>4</td>\n",
       "    </tr>\n",
       "    <tr>\n",
       "      <th>4</th>\n",
       "      <td>Достойный телефон. Пользоваться одно удовольст...</td>\n",
       "      <td>5</td>\n",
       "    </tr>\n",
       "    <tr>\n",
       "      <th>...</th>\n",
       "      <td>...</td>\n",
       "      <td>...</td>\n",
       "    </tr>\n",
       "    <tr>\n",
       "      <th>458428</th>\n",
       "      <td>удобный, всё работает отлично, звонит, играет,...</td>\n",
       "      <td>5</td>\n",
       "    </tr>\n",
       "    <tr>\n",
       "      <th>458429</th>\n",
       "      <td>прошло больше года, притензий нет, при моей на...</td>\n",
       "      <td>5</td>\n",
       "    </tr>\n",
       "    <tr>\n",
       "      <th>458430</th>\n",
       "      <td>мой первый аппарат на андроиде. На данный моме...</td>\n",
       "      <td>5</td>\n",
       "    </tr>\n",
       "    <tr>\n",
       "      <th>458431</th>\n",
       "      <td>Разбил iphone и не было желания покупать новый...</td>\n",
       "      <td>5</td>\n",
       "    </tr>\n",
       "    <tr>\n",
       "      <th>458432</th>\n",
       "      <td>Очень доволен покупкой и всем советую...</td>\n",
       "      <td>5</td>\n",
       "    </tr>\n",
       "  </tbody>\n",
       "</table>\n",
       "<p>457837 rows × 2 columns</p>\n",
       "</div>"
      ],
      "text/plain": [
       "                                                   Review  Rating\n",
       "0       3D Touch просто восхитительная вещь! Заряд дер...       5\n",
       "1       Отключается при температуре близкой к нулю, не...       4\n",
       "2       В Apple окончательно решили не заморачиваться,...       3\n",
       "3       Постарался наиболее ёмко и коротко описать все...       4\n",
       "4       Достойный телефон. Пользоваться одно удовольст...       5\n",
       "...                                                   ...     ...\n",
       "458428  удобный, всё работает отлично, звонит, играет,...       5\n",
       "458429  прошло больше года, притензий нет, при моей на...       5\n",
       "458430  мой первый аппарат на андроиде. На данный моме...       5\n",
       "458431  Разбил iphone и не было желания покупать новый...       5\n",
       "458432           Очень доволен покупкой и всем советую...       5\n",
       "\n",
       "[457837 rows x 2 columns]"
      ]
     },
     "execution_count": 4,
     "metadata": {},
     "output_type": "execute_result"
    }
   ],
   "source": [
    "data = data.dropna()\n",
    "data"
   ]
  },
  {
   "cell_type": "code",
   "execution_count": 5,
   "id": "87b019a8",
   "metadata": {
    "execution": {
     "iopub.execute_input": "2023-01-21T18:23:36.898649Z",
     "iopub.status.busy": "2023-01-21T18:23:36.897453Z",
     "iopub.status.idle": "2023-01-21T18:23:37.168916Z",
     "shell.execute_reply": "2023-01-21T18:23:37.167741Z"
    },
    "papermill": {
     "duration": 0.282297,
     "end_time": "2023-01-21T18:23:37.171657",
     "exception": false,
     "start_time": "2023-01-21T18:23:36.889360",
     "status": "completed"
    },
    "tags": []
   },
   "outputs": [
    {
     "data": {
      "text/plain": [
       "<AxesSubplot:>"
      ]
     },
     "execution_count": 5,
     "metadata": {},
     "output_type": "execute_result"
    },
    {
     "data": {
      "image/png": "[encoded data removed]",
      "text/plain": [
       "<Figure size 432x288 with 1 Axes>"
      ]
     },
     "metadata": {
      "needs_background": "light"
     },
     "output_type": "display_data"
    }
   ],
   "source": [
    "ratings_distr = data['Rating'].value_counts()\n",
    "ratings_distr.plot(kind='bar')"
   ]
  },
  {
   "cell_type": "code",
   "execution_count": 6,
   "id": "320fbabe",
   "metadata": {
    "execution": {
     "iopub.execute_input": "2023-01-21T18:23:37.188082Z",
     "iopub.status.busy": "2023-01-21T18:23:37.187620Z",
     "iopub.status.idle": "2023-01-21T18:23:37.233540Z",
     "shell.execute_reply": "2023-01-21T18:23:37.232305Z"
    },
    "papermill": {
     "duration": 0.057387,
     "end_time": "2023-01-21T18:23:37.236322",
     "exception": false,
     "start_time": "2023-01-21T18:23:37.178935",
     "status": "completed"
    },
    "tags": []
   },
   "outputs": [
    {
     "data": {
      "text/html": [
       "<div>\n",
       "<style scoped>\n",
       "    .dataframe tbody tr th:only-of-type {\n",
       "        vertical-align: middle;\n",
       "    }\n",
       "\n",
       "    .dataframe tbody tr th {\n",
       "        vertical-align: top;\n",
       "    }\n",
       "\n",
       "    .dataframe thead th {\n",
       "        text-align: right;\n",
       "    }\n",
       "</style>\n",
       "<table border=\"1\" class=\"dataframe\">\n",
       "  <thead>\n",
       "    <tr style=\"text-align: right;\">\n",
       "      <th></th>\n",
       "      <th>Review</th>\n",
       "      <th>Rating</th>\n",
       "    </tr>\n",
       "  </thead>\n",
       "  <tbody>\n",
       "    <tr>\n",
       "      <th>0</th>\n",
       "      <td>3D Touch просто восхитительная вещь! Заряд дер...</td>\n",
       "      <td>5</td>\n",
       "    </tr>\n",
       "    <tr>\n",
       "      <th>1</th>\n",
       "      <td>Отключается при температуре близкой к нулю, не...</td>\n",
       "      <td>4</td>\n",
       "    </tr>\n",
       "    <tr>\n",
       "      <th>3</th>\n",
       "      <td>Постарался наиболее ёмко и коротко описать все...</td>\n",
       "      <td>4</td>\n",
       "    </tr>\n",
       "    <tr>\n",
       "      <th>4</th>\n",
       "      <td>Достойный телефон. Пользоваться одно удовольст...</td>\n",
       "      <td>5</td>\n",
       "    </tr>\n",
       "    <tr>\n",
       "      <th>5</th>\n",
       "      <td>6s gold 64gb</td>\n",
       "      <td>5</td>\n",
       "    </tr>\n",
       "    <tr>\n",
       "      <th>...</th>\n",
       "      <td>...</td>\n",
       "      <td>...</td>\n",
       "    </tr>\n",
       "    <tr>\n",
       "      <th>458428</th>\n",
       "      <td>удобный, всё работает отлично, звонит, играет,...</td>\n",
       "      <td>5</td>\n",
       "    </tr>\n",
       "    <tr>\n",
       "      <th>458429</th>\n",
       "      <td>прошло больше года, притензий нет, при моей на...</td>\n",
       "      <td>5</td>\n",
       "    </tr>\n",
       "    <tr>\n",
       "      <th>458430</th>\n",
       "      <td>мой первый аппарат на андроиде. На данный моме...</td>\n",
       "      <td>5</td>\n",
       "    </tr>\n",
       "    <tr>\n",
       "      <th>458431</th>\n",
       "      <td>Разбил iphone и не было желания покупать новый...</td>\n",
       "      <td>5</td>\n",
       "    </tr>\n",
       "    <tr>\n",
       "      <th>458432</th>\n",
       "      <td>Очень доволен покупкой и всем советую...</td>\n",
       "      <td>5</td>\n",
       "    </tr>\n",
       "  </tbody>\n",
       "</table>\n",
       "<p>404778 rows × 2 columns</p>\n",
       "</div>"
      ],
      "text/plain": [
       "                                                   Review  Rating\n",
       "0       3D Touch просто восхитительная вещь! Заряд дер...       5\n",
       "1       Отключается при температуре близкой к нулю, не...       4\n",
       "3       Постарался наиболее ёмко и коротко описать все...       4\n",
       "4       Достойный телефон. Пользоваться одно удовольст...       5\n",
       "5                                            6s gold 64gb       5\n",
       "...                                                   ...     ...\n",
       "458428  удобный, всё работает отлично, звонит, играет,...       5\n",
       "458429  прошло больше года, притензий нет, при моей на...       5\n",
       "458430  мой первый аппарат на андроиде. На данный моме...       5\n",
       "458431  Разбил iphone и не было желания покупать новый...       5\n",
       "458432           Очень доволен покупкой и всем советую...       5\n",
       "\n",
       "[404778 rows x 2 columns]"
      ]
     },
     "execution_count": 6,
     "metadata": {},
     "output_type": "execute_result"
    }
   ],
   "source": [
    "data_filtered = data.loc[data['Rating'].isin({1, 2, 4, 5})]\n",
    "data_filtered"
   ]
  },
  {
   "cell_type": "code",
   "execution_count": 7,
   "id": "9981e945",
   "metadata": {
    "execution": {
     "iopub.execute_input": "2023-01-21T18:23:37.253684Z",
     "iopub.status.busy": "2023-01-21T18:23:37.253239Z",
     "iopub.status.idle": "2023-01-21T18:23:37.359197Z",
     "shell.execute_reply": "2023-01-21T18:23:37.358056Z"
    },
    "papermill": {
     "duration": 0.117516,
     "end_time": "2023-01-21T18:23:37.361619",
     "exception": false,
     "start_time": "2023-01-21T18:23:37.244103",
     "status": "completed"
    },
    "tags": []
   },
   "outputs": [
    {
     "data": {
      "text/plain": [
       "positive    334589\n",
       "negative     70189\n",
       "Name: Sentiment, dtype: int64"
      ]
     },
     "execution_count": 7,
     "metadata": {},
     "output_type": "execute_result"
    }
   ],
   "source": [
    "df = data_filtered\n",
    "df = df.reset_index(drop=True)\n",
    "df.loc[(df['Rating'] >= 4), 'Sentiment'] = 'positive'\n",
    "df.loc[(df['Rating'] <= 2), 'Sentiment'] = 'negative'\n",
    "df['Sentiment'].value_counts()"
   ]
  },
  {
   "cell_type": "code",
   "execution_count": 8,
   "id": "68eb0dad",
   "metadata": {
    "execution": {
     "iopub.execute_input": "2023-01-21T18:23:37.379644Z",
     "iopub.status.busy": "2023-01-21T18:23:37.379236Z",
     "iopub.status.idle": "2023-01-21T18:23:41.846154Z",
     "shell.execute_reply": "2023-01-21T18:23:41.844779Z"
    },
    "papermill": {
     "duration": 4.479918,
     "end_time": "2023-01-21T18:23:41.848895",
     "exception": false,
     "start_time": "2023-01-21T18:23:37.368977",
     "status": "completed"
    },
    "tags": []
   },
   "outputs": [
    {
     "data": {
      "text/plain": [
       "positive    326183\n",
       "negative     67920\n",
       "Name: Sentiment, dtype: int64"
      ]
     },
     "execution_count": 8,
     "metadata": {},
     "output_type": "execute_result"
    }
   ],
   "source": [
    "df = df.loc[df.apply(lambda row: len(row['Review']) >= 20, axis=1)]\n",
    "df['Sentiment'].value_counts()"
   ]
  },
  {
   "cell_type": "code",
   "execution_count": 9,
   "id": "41290621",
   "metadata": {
    "execution": {
     "iopub.execute_input": "2023-01-21T18:23:41.866822Z",
     "iopub.status.busy": "2023-01-21T18:23:41.866134Z",
     "iopub.status.idle": "2023-01-21T18:23:41.875707Z",
     "shell.execute_reply": "2023-01-21T18:23:41.874326Z"
    },
    "papermill": {
     "duration": 0.022097,
     "end_time": "2023-01-21T18:23:41.878992",
     "exception": false,
     "start_time": "2023-01-21T18:23:41.856895",
     "status": "completed"
    },
    "tags": []
   },
   "outputs": [
    {
     "name": "stdout",
     "output_type": "stream",
     "text": [
      "<class 'pandas.core.series.Series'> <class 'numpy.ndarray'>\n"
     ]
    },
    {
     "data": {
      "text/plain": [
       "array(['3D Touch просто восхитительная вещь! Заряд держит целый день. В розовом цвете смотрится очень необычно. Touch ID очень быстрый и удобный. Всем советую этот телефон!',\n",
       "       'Отключается при температуре близкой к нулю, непонятно ведет себя батарея',\n",
       "       'Постарался наиболее ёмко и коротко описать все основные плюсы и минусы. Большим мне аппарат не показался, размеры - что надо. Внешний вид, как для меня, так 5-ка выглядит интереснее и солиднее.'],\n",
       "      dtype=object)"
      ]
     },
     "execution_count": 9,
     "metadata": {},
     "output_type": "execute_result"
    }
   ],
   "source": [
    "texts = df['Review'].values\n",
    "print(type(df['Review']), type(df['Review'].values))\n",
    "texts[:3]"
   ]
  },
  {
   "cell_type": "code",
   "execution_count": 10,
   "id": "0d85919c",
   "metadata": {
    "execution": {
     "iopub.execute_input": "2023-01-21T18:23:41.896337Z",
     "iopub.status.busy": "2023-01-21T18:23:41.895947Z",
     "iopub.status.idle": "2023-01-21T18:23:41.903168Z",
     "shell.execute_reply": "2023-01-21T18:23:41.902059Z"
    },
    "papermill": {
     "duration": 0.019044,
     "end_time": "2023-01-21T18:23:41.905847",
     "exception": false,
     "start_time": "2023-01-21T18:23:41.886803",
     "status": "completed"
    },
    "tags": []
   },
   "outputs": [
    {
     "data": {
      "text/plain": [
       "array(['positive', 'positive', 'positive'], dtype=object)"
      ]
     },
     "execution_count": 10,
     "metadata": {},
     "output_type": "execute_result"
    }
   ],
   "source": [
    "labels = df['Sentiment'].values\n",
    "labels[:3]"
   ]
  },
  {
   "cell_type": "code",
   "execution_count": 11,
   "id": "86f20f9f",
   "metadata": {
    "execution": {
     "iopub.execute_input": "2023-01-21T18:23:41.923609Z",
     "iopub.status.busy": "2023-01-21T18:23:41.923203Z",
     "iopub.status.idle": "2023-01-21T18:23:43.040775Z",
     "shell.execute_reply": "2023-01-21T18:23:43.039241Z"
    },
    "papermill": {
     "duration": 1.129568,
     "end_time": "2023-01-21T18:23:43.043343",
     "exception": false,
     "start_time": "2023-01-21T18:23:41.913775",
     "status": "completed"
    },
    "tags": []
   },
   "outputs": [
    {
     "data": {
      "text/plain": [
       "(array(['За такие деньги это хороший телефон',\n",
       "        'Купил недавно, но не могу нарадоваться! Раньше была Sony Xperia neo - очень плохо ловила wi-fi, да и вообще морально устарела. Выбирал себе новый телефон, наверное, полгода - очень много вариантов пересмотрел, раз по 10 каждый отвергал и потом заново рассматривал:). В итоге остановился на E975 и, что для меня редкость, ни капельки не пожалел! Т. е. вообще нет ничего, что раздражает или не нравится - сплошная гора позитивных эмоций! Я влюблён в этот телефон и боюсь только случайно его уронить (стеклянный, всё же).PS Носите без чехла (я хочу купить \"кармашек\", чтобы когда достаю телефон - в руках без всяких нагромождений было)! В руках держать очень приятно!P. S. Не понравилась только базовая клавиатура на кириллице, но она за 30 секунд меняется на нормальную от гугла, например:)P. P. S. UPD от 14.03.2016: Телефон всё ещё как новенький и я всё так же в него влюблён:)',\n",
       "        'Отличный телефон, nokia рулит, сколько пользуюсь столько и радуюсь'],\n",
       "       dtype=object),\n",
       " array(['positive', 'positive', 'positive'], dtype=object))"
      ]
     },
     "execution_count": 11,
     "metadata": {},
     "output_type": "execute_result"
    }
   ],
   "source": [
    "from sklearn.model_selection import train_test_split\n",
    "\n",
    "X_train, X_test, y_train, y_test = train_test_split(\n",
    "    texts,\n",
    "    labels,\n",
    "    test_size=0.1,\n",
    "    random_state=1,\n",
    ")\n",
    "X_train[:3], y_train[:3]"
   ]
  },
  {
   "cell_type": "code",
   "execution_count": 12,
   "id": "42615a07",
   "metadata": {
    "execution": {
     "iopub.execute_input": "2023-01-21T18:23:43.061186Z",
     "iopub.status.busy": "2023-01-21T18:23:43.060778Z",
     "iopub.status.idle": "2023-01-21T18:23:43.066599Z",
     "shell.execute_reply": "2023-01-21T18:23:43.065440Z"
    },
    "papermill": {
     "duration": 0.018484,
     "end_time": "2023-01-21T18:23:43.070034",
     "exception": false,
     "start_time": "2023-01-21T18:23:43.051550",
     "status": "completed"
    },
    "tags": []
   },
   "outputs": [
    {
     "name": "stdout",
     "output_type": "stream",
     "text": [
      "len(X_train) = 354692\n",
      "len(y_train) = 354692\n",
      "len(X_test) = 39411\n",
      "len(y_test) = 39411\n"
     ]
    }
   ],
   "source": [
    "print(f'len(X_train) = {len(X_train)}')\n",
    "print(f'len(y_train) = {len(y_train)}')\n",
    "print(f'len(X_test) = {len(X_test)}')\n",
    "print(f'len(y_test) = {len(y_test)}')"
   ]
  },
  {
   "cell_type": "code",
   "execution_count": 13,
   "id": "ab2954f2",
   "metadata": {
    "execution": {
     "iopub.execute_input": "2023-01-21T18:23:43.089430Z",
     "iopub.status.busy": "2023-01-21T18:23:43.088982Z",
     "iopub.status.idle": "2023-01-21T18:24:04.911169Z",
     "shell.execute_reply": "2023-01-21T18:24:04.909949Z"
    },
    "papermill": {
     "duration": 21.83497,
     "end_time": "2023-01-21T18:24:04.914153",
     "exception": false,
     "start_time": "2023-01-21T18:23:43.079183",
     "status": "completed"
    },
    "tags": []
   },
   "outputs": [
    {
     "name": "stdout",
     "output_type": "stream",
     "text": [
      "CPU times: user 21.3 s, sys: 498 ms, total: 21.8 s\n",
      "Wall time: 21.8 s\n"
     ]
    },
    {
     "data": {
      "text/plain": [
       "(<3x20000 sparse matrix of type '<class 'numpy.int64'>'\n",
       " \twith 110 stored elements in Compressed Sparse Row format>,\n",
       " (354692, 20000))"
      ]
     },
     "execution_count": 13,
     "metadata": {},
     "output_type": "execute_result"
    }
   ],
   "source": [
    "%%time\n",
    "from sklearn.feature_extraction.text import CountVectorizer\n",
    "\n",
    "c_vect = CountVectorizer(max_features=20_000)\n",
    "X_train_bow = c_vect.fit_transform(X_train)\n",
    "X_train_bow[:3], X_train_bow.shape"
   ]
  },
  {
   "cell_type": "code",
   "execution_count": 14,
   "id": "d4c332bf",
   "metadata": {
    "execution": {
     "iopub.execute_input": "2023-01-21T18:24:04.932290Z",
     "iopub.status.busy": "2023-01-21T18:24:04.931878Z",
     "iopub.status.idle": "2023-01-21T18:24:26.724066Z",
     "shell.execute_reply": "2023-01-21T18:24:26.722811Z"
    },
    "papermill": {
     "duration": 21.812285,
     "end_time": "2023-01-21T18:24:26.734722",
     "exception": false,
     "start_time": "2023-01-21T18:24:04.922437",
     "status": "completed"
    },
    "tags": []
   },
   "outputs": [
    {
     "name": "stdout",
     "output_type": "stream",
     "text": [
      "CPU times: user 43.5 s, sys: 36.7 s, total: 1min 20s\n",
      "Wall time: 21.8 s\n"
     ]
    },
    {
     "name": "stderr",
     "output_type": "stream",
     "text": [
      "/opt/conda/lib/python3.7/site-packages/sklearn/linear_model/_logistic.py:818: ConvergenceWarning: lbfgs failed to converge (status=1):\n",
      "STOP: TOTAL NO. of ITERATIONS REACHED LIMIT.\n",
      "\n",
      "Increase the number of iterations (max_iter) or scale the data as shown in:\n",
      "    https://scikit-learn.org/stable/modules/preprocessing.html\n",
      "Please also refer to the documentation for alternative solver options:\n",
      "    https://scikit-learn.org/stable/modules/linear_model.html#logistic-regression\n",
      "  extra_warning_msg=_LOGISTIC_SOLVER_CONVERGENCE_MSG,\n"
     ]
    },
    {
     "data": {
      "text/plain": [
       "LogisticRegression(random_state=1)"
      ]
     },
     "execution_count": 14,
     "metadata": {},
     "output_type": "execute_result"
    }
   ],
   "source": [
    "%%time\n",
    "from sklearn.linear_model import LogisticRegression\n",
    "\n",
    "logreg = LogisticRegression(random_state=1)\n",
    "logreg.fit(X_train_bow, y_train)"
   ]
  },
  {
   "cell_type": "code",
   "execution_count": 15,
   "id": "fac3b4ad",
   "metadata": {
    "execution": {
     "iopub.execute_input": "2023-01-21T18:24:26.769068Z",
     "iopub.status.busy": "2023-01-21T18:24:26.768686Z",
     "iopub.status.idle": "2023-01-21T18:24:26.782049Z",
     "shell.execute_reply": "2023-01-21T18:24:26.778535Z"
    },
    "papermill": {
     "duration": 0.035293,
     "end_time": "2023-01-21T18:24:26.785206",
     "exception": false,
     "start_time": "2023-01-21T18:24:26.749913",
     "status": "completed"
    },
    "tags": []
   },
   "outputs": [
    {
     "name": "stdout",
     "output_type": "stream",
     "text": [
      "['positive' 'negative' 'positive' 'negative']\n",
      "[[0.00591167 0.99408833]\n",
      " [0.96951153 0.03048847]\n",
      " [0.0187495  0.9812505 ]\n",
      " [0.63721625 0.36278375]]\n"
     ]
    }
   ],
   "source": [
    "examples = [\n",
    "    'Отличный телефон - сколько пользуюсь, столько и радуюсь',\n",
    "    'Ужасный телефон, хуже некуда!',\n",
    "    'Сегодня отличная погода!',\n",
    "    'У Васи ужасное настроение.',\n",
    "]\n",
    "examples = c_vect.transform(examples)\n",
    "print(logreg.predict(examples)) \n",
    "print(logreg.predict_proba(examples))"
   ]
  },
  {
   "cell_type": "code",
   "execution_count": 16,
   "id": "55e4c309",
   "metadata": {
    "execution": {
     "iopub.execute_input": "2023-01-21T18:24:26.813236Z",
     "iopub.status.busy": "2023-01-21T18:24:26.812241Z",
     "iopub.status.idle": "2023-01-21T18:24:29.142879Z",
     "shell.execute_reply": "2023-01-21T18:24:29.141635Z"
    },
    "papermill": {
     "duration": 2.343999,
     "end_time": "2023-01-21T18:24:29.145331",
     "exception": false,
     "start_time": "2023-01-21T18:24:26.801332",
     "status": "completed"
    },
    "tags": []
   },
   "outputs": [
    {
     "data": {
      "text/plain": [
       "(<3x20000 sparse matrix of type '<class 'numpy.int64'>'\n",
       " \twith 252 stored elements in Compressed Sparse Row format>,\n",
       " (39411, 20000))"
      ]
     },
     "execution_count": 16,
     "metadata": {},
     "output_type": "execute_result"
    }
   ],
   "source": [
    "X_test_bow = c_vect.transform(X_test)\n",
    "X_test_bow[:3], X_test_bow.shape"
   ]
  },
  {
   "cell_type": "code",
   "execution_count": 17,
   "id": "555e741a",
   "metadata": {
    "execution": {
     "iopub.execute_input": "2023-01-21T18:24:29.164389Z",
     "iopub.status.busy": "2023-01-21T18:24:29.164006Z",
     "iopub.status.idle": "2023-01-21T18:24:30.657553Z",
     "shell.execute_reply": "2023-01-21T18:24:30.655906Z"
    },
    "papermill": {
     "duration": 1.50598,
     "end_time": "2023-01-21T18:24:30.660136",
     "exception": false,
     "start_time": "2023-01-21T18:24:29.154156",
     "status": "completed"
    },
    "tags": []
   },
   "outputs": [
    {
     "name": "stdout",
     "output_type": "stream",
     "text": [
      "              precision    recall  f1-score   support\n",
      "\n",
      "    negative       0.82      0.69      0.75      6742\n",
      "    positive       0.94      0.97      0.95     32669\n",
      "\n",
      "    accuracy                           0.92     39411\n",
      "   macro avg       0.88      0.83      0.85     39411\n",
      "weighted avg       0.92      0.92      0.92     39411\n",
      "\n"
     ]
    }
   ],
   "source": [
    "from sklearn.metrics import classification_report\n",
    "\n",
    "predicted = logreg.predict(X_test_bow)\n",
    "print(classification_report(y_test, predicted))"
   ]
  },
  {
   "cell_type": "code",
   "execution_count": 18,
   "id": "c8cb8583",
   "metadata": {
    "execution": {
     "iopub.execute_input": "2023-01-21T18:24:30.679560Z",
     "iopub.status.busy": "2023-01-21T18:24:30.679146Z",
     "iopub.status.idle": "2023-01-21T18:27:18.038747Z",
     "shell.execute_reply": "2023-01-21T18:27:18.037476Z"
    },
    "papermill": {
     "duration": 167.381621,
     "end_time": "2023-01-21T18:27:18.050629",
     "exception": false,
     "start_time": "2023-01-21T18:24:30.669008",
     "status": "completed"
    },
    "tags": []
   },
   "outputs": [
    {
     "name": "stdout",
     "output_type": "stream",
     "text": [
      "CPU times: user 2min 41s, sys: 6.35 s, total: 2min 47s\n",
      "Wall time: 2min 47s\n"
     ]
    }
   ],
   "source": [
    "%%time\n",
    "c_vect2 = CountVectorizer(max_features=30_000, ngram_range=(1, 3))\n",
    "X_train_bow2 = c_vect2.fit_transform(X_train)\n",
    "X_test_bow2 = c_vect2.transform(X_test)"
   ]
  },
  {
   "cell_type": "code",
   "execution_count": 19,
   "id": "c6376851",
   "metadata": {
    "execution": {
     "iopub.execute_input": "2023-01-21T18:27:18.071431Z",
     "iopub.status.busy": "2023-01-21T18:27:18.071009Z",
     "iopub.status.idle": "2023-01-21T18:27:46.581102Z",
     "shell.execute_reply": "2023-01-21T18:27:46.579339Z"
    },
    "papermill": {
     "duration": 28.523332,
     "end_time": "2023-01-21T18:27:46.584314",
     "exception": false,
     "start_time": "2023-01-21T18:27:18.060982",
     "status": "completed"
    },
    "tags": []
   },
   "outputs": [
    {
     "name": "stderr",
     "output_type": "stream",
     "text": [
      "/opt/conda/lib/python3.7/site-packages/sklearn/linear_model/_logistic.py:818: ConvergenceWarning: lbfgs failed to converge (status=1):\n",
      "STOP: TOTAL NO. of ITERATIONS REACHED LIMIT.\n",
      "\n",
      "Increase the number of iterations (max_iter) or scale the data as shown in:\n",
      "    https://scikit-learn.org/stable/modules/preprocessing.html\n",
      "Please also refer to the documentation for alternative solver options:\n",
      "    https://scikit-learn.org/stable/modules/linear_model.html#logistic-regression\n",
      "  extra_warning_msg=_LOGISTIC_SOLVER_CONVERGENCE_MSG,\n"
     ]
    },
    {
     "name": "stdout",
     "output_type": "stream",
     "text": [
      "              precision    recall  f1-score   support\n",
      "\n",
      "    negative       0.87      0.78      0.83      6742\n",
      "    positive       0.96      0.98      0.97     32669\n",
      "\n",
      "    accuracy                           0.94     39411\n",
      "   macro avg       0.91      0.88      0.90     39411\n",
      "weighted avg       0.94      0.94      0.94     39411\n",
      "\n"
     ]
    }
   ],
   "source": [
    "logreg2 = LogisticRegression(random_state=1)\n",
    "logreg2.fit(X_train_bow2, y_train)\n",
    "predicted = logreg2.predict(X_test_bow2)\n",
    "print(classification_report(y_test, predicted))"
   ]
  },
  {
   "cell_type": "code",
   "execution_count": 20,
   "id": "aba2af59",
   "metadata": {
    "execution": {
     "iopub.execute_input": "2023-01-21T18:27:46.606031Z",
     "iopub.status.busy": "2023-01-21T18:27:46.605641Z",
     "iopub.status.idle": "2023-01-21T18:29:33.366645Z",
     "shell.execute_reply": "2023-01-21T18:29:33.365454Z"
    },
    "papermill": {
     "duration": 106.774033,
     "end_time": "2023-01-21T18:29:33.369215",
     "exception": false,
     "start_time": "2023-01-21T18:27:46.595182",
     "status": "completed"
    },
    "tags": []
   },
   "outputs": [
    {
     "name": "stderr",
     "output_type": "stream",
     "text": [
      "/opt/conda/lib/python3.7/site-packages/sklearn/linear_model/_logistic.py:818: ConvergenceWarning: lbfgs failed to converge (status=1):\n",
      "STOP: TOTAL NO. of ITERATIONS REACHED LIMIT.\n",
      "\n",
      "Increase the number of iterations (max_iter) or scale the data as shown in:\n",
      "    https://scikit-learn.org/stable/modules/preprocessing.html\n",
      "Please also refer to the documentation for alternative solver options:\n",
      "    https://scikit-learn.org/stable/modules/linear_model.html#logistic-regression\n",
      "  extra_warning_msg=_LOGISTIC_SOLVER_CONVERGENCE_MSG,\n"
     ]
    },
    {
     "name": "stdout",
     "output_type": "stream",
     "text": [
      "              precision    recall  f1-score   support\n",
      "\n",
      "    negative       0.85      0.76      0.81      6742\n",
      "    positive       0.95      0.97      0.96     32669\n",
      "\n",
      "    accuracy                           0.94     39411\n",
      "   macro avg       0.90      0.87      0.88     39411\n",
      "weighted avg       0.94      0.94      0.94     39411\n",
      "\n",
      "CPU times: user 2min 10s, sys: 42 s, total: 2min 52s\n",
      "Wall time: 1min 46s\n"
     ]
    }
   ],
   "source": [
    "%%time\n",
    "# simple pipeline\n",
    "from sklearn.pipeline import Pipeline\n",
    "\n",
    "pipeline = Pipeline(\n",
    "    [\n",
    "        (\n",
    "            'ngrams', \n",
    "            CountVectorizer(\n",
    "                max_features=20_000,\n",
    "                ngram_range=(1, 2),\n",
    "            ),\n",
    "        ),\n",
    "        (\n",
    "            'classifier',\n",
    "            LogisticRegression(\n",
    "                random_state=1,\n",
    "            ),\n",
    "        ),\n",
    "    ]\n",
    ")\n",
    "pipeline.fit(X_train, y_train)\n",
    "predicted = pipeline.predict(X_test)\n",
    "print(classification_report(y_test, predicted))"
   ]
  },
  {
   "cell_type": "code",
   "execution_count": 21,
   "id": "58ef2cfd",
   "metadata": {
    "execution": {
     "iopub.execute_input": "2023-01-21T18:29:33.389243Z",
     "iopub.status.busy": "2023-01-21T18:29:33.388584Z",
     "iopub.status.idle": "2023-01-21T18:45:51.275488Z",
     "shell.execute_reply": "2023-01-21T18:45:51.274241Z"
    },
    "papermill": {
     "duration": 977.908404,
     "end_time": "2023-01-21T18:45:51.286616",
     "exception": false,
     "start_time": "2023-01-21T18:29:33.378212",
     "status": "completed"
    },
    "tags": []
   },
   "outputs": [
    {
     "name": "stdout",
     "output_type": "stream",
     "text": [
      "              precision    recall  f1-score   support\n",
      "\n",
      "    negative       0.61      0.65      0.63      6742\n",
      "    positive       0.93      0.91      0.92     32669\n",
      "\n",
      "    accuracy                           0.87     39411\n",
      "   macro avg       0.77      0.78      0.77     39411\n",
      "weighted avg       0.87      0.87      0.87     39411\n",
      "\n",
      "CPU times: user 13min 23s, sys: 2min 54s, total: 16min 17s\n",
      "Wall time: 16min 17s\n"
     ]
    }
   ],
   "source": [
    "%%time\n",
    "# other models: KNN classifier\n",
    "from sklearn.neighbors import KNeighborsClassifier\n",
    "\n",
    "pipeline = Pipeline(\n",
    "    [\n",
    "        (\n",
    "            'ngrams', \n",
    "            CountVectorizer(\n",
    "                max_features=30_000,\n",
    "                ngram_range=(1, 1),\n",
    "            ),\n",
    "        ),\n",
    "        (\n",
    "            'classifier',\n",
    "            KNeighborsClassifier(\n",
    "                n_neighbors=3,\n",
    "            ),\n",
    "        ),\n",
    "    ]\n",
    ")\n",
    "pipeline.fit(X_train, y_train)\n",
    "predicted = pipeline.predict(X_test)\n",
    "print(classification_report(y_test, predicted))"
   ]
  },
  {
   "cell_type": "code",
   "execution_count": 22,
   "id": "c468fcae",
   "metadata": {
    "execution": {
     "iopub.execute_input": "2023-01-21T18:45:51.306429Z",
     "iopub.status.busy": "2023-01-21T18:45:51.306025Z",
     "iopub.status.idle": "2023-01-21T18:46:17.682980Z",
     "shell.execute_reply": "2023-01-21T18:46:17.681756Z"
    },
    "papermill": {
     "duration": 26.389887,
     "end_time": "2023-01-21T18:46:17.685562",
     "exception": false,
     "start_time": "2023-01-21T18:45:51.295675",
     "status": "completed"
    },
    "tags": []
   },
   "outputs": [
    {
     "name": "stdout",
     "output_type": "stream",
     "text": [
      "              precision    recall  f1-score   support\n",
      "\n",
      "    negative       0.67      0.72      0.69      6742\n",
      "    positive       0.94      0.93      0.93     32669\n",
      "\n",
      "    accuracy                           0.89     39411\n",
      "   macro avg       0.81      0.82      0.81     39411\n",
      "weighted avg       0.89      0.89      0.89     39411\n",
      "\n",
      "CPU times: user 26 s, sys: 334 ms, total: 26.4 s\n",
      "Wall time: 26.4 s\n"
     ]
    }
   ],
   "source": [
    "%%time\n",
    "# other models: Naive Bayes\n",
    "from sklearn.naive_bayes import MultinomialNB\n",
    "\n",
    "pipeline = Pipeline(\n",
    "    [\n",
    "        (\n",
    "            'ngrams', \n",
    "            CountVectorizer(\n",
    "                max_features=30_000,\n",
    "                ngram_range=(1, 1),\n",
    "            ),\n",
    "        ),\n",
    "        (\n",
    "            'classifier',\n",
    "            MultinomialNB(),\n",
    "        ),\n",
    "    ]\n",
    ")\n",
    "pipeline.fit(X_train, y_train)\n",
    "predicted = pipeline.predict(X_test)\n",
    "print(classification_report(y_test, predicted))"
   ]
  },
  {
   "cell_type": "code",
   "execution_count": 23,
   "id": "e5605573",
   "metadata": {
    "execution": {
     "iopub.execute_input": "2023-01-21T18:46:17.706497Z",
     "iopub.status.busy": "2023-01-21T18:46:17.705270Z",
     "iopub.status.idle": "2023-01-21T18:46:17.858357Z",
     "shell.execute_reply": "2023-01-21T18:46:17.857370Z"
    },
    "papermill": {
     "duration": 0.165727,
     "end_time": "2023-01-21T18:46:17.860681",
     "exception": false,
     "start_time": "2023-01-21T18:46:17.694954",
     "status": "completed"
    },
    "tags": []
   },
   "outputs": [
    {
     "data": {
      "text/plain": [
       "<AxesSubplot:>"
      ]
     },
     "execution_count": 23,
     "metadata": {},
     "output_type": "execute_result"
    },
    {
     "data": {
      "image/png": "[encoded data removed]",
      "text/plain": [
       "<Figure size 432x288 with 1 Axes>"
      ]
     },
     "metadata": {
      "needs_background": "light"
     },
     "output_type": "display_data"
    }
   ],
   "source": [
    "# plotting\n",
    "import pandas as pd\n",
    "\n",
    "results = pd.DataFrame(\n",
    "    {\n",
    "        'model': [\n",
    "            \"logreg 3gram 30000\",\n",
    "            \"Multinomial NB\",\n",
    "            \"KNN, n=3\",\n",
    "        ],\n",
    "        'scores': [\n",
    "            0.9, \n",
    "            0.81,\n",
    "            0.77\n",
    "        ]\n",
    "    }\n",
    ")\n",
    "results.plot(kind='bar', )"
   ]
  },
  {
   "cell_type": "code",
   "execution_count": 24,
   "id": "26c0bcf4",
   "metadata": {
    "execution": {
     "iopub.execute_input": "2023-01-21T18:46:17.881809Z",
     "iopub.status.busy": "2023-01-21T18:46:17.881383Z",
     "iopub.status.idle": "2023-01-21T18:46:17.885631Z",
     "shell.execute_reply": "2023-01-21T18:46:17.884549Z"
    },
    "papermill": {
     "duration": 0.017743,
     "end_time": "2023-01-21T18:46:17.887930",
     "exception": false,
     "start_time": "2023-01-21T18:46:17.870187",
     "status": "completed"
    },
    "tags": []
   },
   "outputs": [],
   "source": [
    "# scaling\n",
    "# TF-IDF\n",
    "# more iterations\n",
    "# error analysis\n",
    "# small data\n",
    "# plot results"
   ]
  }
 ],
 "metadata": {
  "kernelspec": {
   "display_name": "Python 3",
   "language": "python",
   "name": "python3"
  },
  "language_info": {
   "codemirror_mode": {
    "name": "ipython",
    "version": 3
   },
   "file_extension": ".py",
   "mimetype": "text/x-python",
   "name": "python",
   "nbconvert_exporter": "python",
   "pygments_lexer": "ipython3",
   "version": "3.7.12"
  },
  "papermill": {
   "default_parameters": {},
   "duration": 1381.270392,
   "end_time": "2023-01-21T18:46:20.720617",
   "environment_variables": {},
   "exception": null,
   "input_path": "__notebook__.ipynb",
   "output_path": "__notebook__.ipynb",
   "parameters": {},
   "start_time": "2023-01-21T18:23:19.450225",
   "version": "2.3.4"
  }
 },
 "nbformat": 4,
 "nbformat_minor": 5
}
